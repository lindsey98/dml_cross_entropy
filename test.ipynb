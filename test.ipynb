{
 "cells": [
  {
   "cell_type": "code",
   "execution_count": 1,
   "id": "619c21a0",
   "metadata": {},
   "outputs": [],
   "source": [
    "from utils.data.dataset_ingredient import *\n",
    "from sklearn.model_selection import train_test_split\n",
    "from collections import Counter\n",
    "from tqdm import tqdm\n",
    "from utils.training import *\n",
    "from utils.training import evaluate, _Metrics\n",
    "from models.ingredient import model_ingredient, get_model\n",
    "from utils.metrics import recall_at_ks_full, fp_fn_eval\n",
    "import torch\n",
    "from torch import nn\n",
    "from scipy.spatial.distance import mahalanobis\n",
    "import matplotlib.pyplot as plt\n",
    "from sklearn.preprocessing import normalize\n",
    "from scipy.spatial.distance import pdist, squareform\n",
    "from fastdist import fastdist"
   ]
  },
  {
   "cell_type": "markdown",
   "id": "f9c6485f",
   "metadata": {},
   "source": [
    "## Re-split dataset into train/pool/test"
   ]
  },
  {
   "cell_type": "code",
   "execution_count": null,
   "id": "c4212140",
   "metadata": {},
   "outputs": [],
   "source": [
    "# train_data = open('data/InShop/train.txt').readlines()\n",
    "# # test_data = open('data/Stanford_Online_Products/test.txt').readlines()\n",
    "# test_data = open('data/InShop/test_gallery.txt').readlines() + open('data/InShop/test_query.txt').readlines()"
   ]
  },
  {
   "cell_type": "code",
   "execution_count": null,
   "id": "6d180bf0",
   "metadata": {},
   "outputs": [],
   "source": [
    "# # split some training into query+testing \n",
    "# train_imgs = [x.strip().split(',')[0] for x in train_data]\n",
    "# train_labels = [x.strip().split(',')[1] for x in train_data]\n",
    "\n",
    "# # split into testing and query \n",
    "# test_imgs = [x.strip().split(',')[0] for x in test_data]\n",
    "# test_labels = [x.strip().split(',')[1] for x in test_data]"
   ]
  },
  {
   "cell_type": "code",
   "execution_count": 2,
   "id": "b1c7489e",
   "metadata": {},
   "outputs": [],
   "source": [
    "# train_keep_imgs, train_left_imgs, train_keep_labels, train_left_labels = train_test_split(train_imgs, train_labels, \n",
    "#                                                                                         test_size=0.33, \n",
    "#                                                                                         random_state=42, \n",
    "# #                                                                                         stratify=train_labels  \n",
    "#                                                                                          )\n"
   ]
  },
  {
   "cell_type": "code",
   "execution_count": 3,
   "id": "21c200b2",
   "metadata": {},
   "outputs": [],
   "source": [
    "# for j in range(len(train_keep_imgs)):\n",
    "#     with open('data/InShop/train_small.txt', 'a+') as f:\n",
    "#         f.write(train_keep_imgs[j] + ',' + train_keep_labels[j] + '\\n')"
   ]
  },
  {
   "cell_type": "code",
   "execution_count": 4,
   "id": "ecab731c",
   "metadata": {},
   "outputs": [],
   "source": [
    "# # split into testing and query \n",
    "# test_imgs += train_left_imgs\n",
    "# test_labels += train_left_labels"
   ]
  },
  {
   "cell_type": "code",
   "execution_count": 5,
   "id": "7374bbb4",
   "metadata": {},
   "outputs": [],
   "source": [
    "# query_imgs, test_keep_imgs, query_labels, test_keep_labels = train_test_split(test_imgs, test_labels, \n",
    "#                                                                               test_size=0.33, \n",
    "# #                                                                               test_size=0.5, \n",
    "#                                                                               random_state=42, \n",
    "# #                                                                               stratify=test_labels,\n",
    "#                                                                              )\n"
   ]
  },
  {
   "cell_type": "code",
   "execution_count": 6,
   "id": "4eb5297f",
   "metadata": {},
   "outputs": [],
   "source": [
    "# for j in range(len(query_imgs)):\n",
    "#     with open('data/InShop/pool.txt', 'a+') as f:\n",
    "#         f.write(query_imgs[j] + ',' + query_labels[j] + '\\n')"
   ]
  },
  {
   "cell_type": "code",
   "execution_count": 7,
   "id": "ed5a5304",
   "metadata": {},
   "outputs": [],
   "source": [
    "# for j in range(len(test_keep_imgs)):\n",
    "#     with open('data/InShop/test_new.txt', 'a+') as f:\n",
    "#         f.write(test_keep_imgs[j] + ',' + test_keep_labels[j] + '\\n')"
   ]
  },
  {
   "cell_type": "code",
   "execution_count": 47,
   "id": "d9621f9b",
   "metadata": {},
   "outputs": [
    {
     "name": "stdout",
     "output_type": "stream",
     "text": [
      "Num training: 3928\n",
      "Num query: 5266\n",
      "Num test: 2594\n"
     ]
    }
   ],
   "source": [
    "# print('Num training: {}'.format(len(open('data/CUB_200_2011//train_small.txt').readlines())))\n",
    "# print('Num query: {}'.format(len(open('data/CUB_200_2011//pool.txt').readlines())))\n",
    "# print('Num test: {}'.format(len(open('data/CUB_200_2011//test_new.txt').readlines())))"
   ]
  },
  {
   "cell_type": "markdown",
   "id": "75fedd56",
   "metadata": {},
   "source": [
    "## Load configurations"
   ]
  },
  {
   "cell_type": "code",
   "execution_count": 64,
   "id": "95cf2f68",
   "metadata": {},
   "outputs": [],
   "source": [
    "general_config = data_ingredient.configurations[0]()\n",
    "data_config = data_ingredient.named_configs['inshop']() # experiment's config\n",
    "# data_config = data_ingredient.named_configs['inshop_vae']() # experiment's config\n",
    "\n",
    "\n",
    "train_file = data_config['train_file'] if 'train_file' in data_config.keys() else general_config['train_file']\n",
    "test_file = data_config['test_file'] if 'test_file' in data_config.keys() else general_config['test_file']\n",
    "pool_file = data_config['pool_file'] if 'pool_file' in data_config.keys() else general_config['pool_file']\n",
    "sampler = general_config['sampler']\n",
    "batch_size = general_config['batch_size']\n",
    "test_batch_size = general_config['test_batch_size']\n",
    "preload = general_config['preload']\n",
    "num_workers = general_config['num_workers']\n",
    "pin_memory = general_config['pin_memory']\n",
    "scale = general_config['scale']\n",
    "ratio = general_config['ratio']\n",
    "recalls = general_config['recalls']\n",
    "\n",
    "name = data_config['name']\n",
    "data_path = data_config['data_path']\n",
    "resize = data_config['resize'] if 'resize' in data_config.keys() else None\n",
    "rotate = data_config['rotate'] if 'rotate' in data_config.keys() else None\n",
    "color_jitter = data_config['color_jitter'] if 'color_jitter' in data_config.keys() else None\n",
    "crop_size = data_config['crop_size'] if 'crop_size' in data_config.keys() else general_config['crop_size']\n",
    "\n",
    "\n",
    "scale = data_config['scale'] if 'scale' in data_config.keys() else scale\n",
    "ratio = data_config['ratio'] if 'ratio' in data_config.keys() else ratio\n",
    "recalls = data_config['recalls'] if 'recalls' in data_config.keys() else recalls\n"
   ]
  },
  {
   "cell_type": "code",
   "execution_count": 65,
   "id": "233aa254",
   "metadata": {},
   "outputs": [],
   "source": [
    "def get_sets(name, data_path, train_file, test_file, pool_file, preload, num_workers):\n",
    "    train_transform, test_transform = get_transforms(crop_size, \n",
    "                                                     scale, ratio, \n",
    "                                                     resize, rotate, \n",
    "                                                     color_jitter)\n",
    "\n",
    "    train_lines = read_file(os.path.join(data_path, train_file))\n",
    "    train_samples = [(os.path.join(data_path, line.split(',')[0]), int(line.split(',')[1])) for line in train_lines]\n",
    "    train_set = ImageDataset(train_samples, transform=train_transform, \n",
    "                             preload=preload, num_workers=num_workers)\n",
    "\n",
    "    query_lines = read_file(os.path.join(data_path, test_file))\n",
    "    query_samples = [(os.path.join(data_path, line.split(',')[0]), int(line.split(',')[1])) for line in query_lines]\n",
    "    query_set = ImageDataset(query_samples, transform=test_transform, preload=preload, num_workers=num_workers)\n",
    "    gallery_set = None\n",
    "        \n",
    "    # pool set\n",
    "    pool_lines = read_file(os.path.join(data_path, pool_file))\n",
    "    pool_samples = [(os.path.join(data_path, line.split(',')[0]), int(line.split(',')[1])) for line in pool_lines]\n",
    "    pool_set = ImageDataset(pool_samples, transform=test_transform, preload=preload, num_workers=num_workers)\n",
    "\n",
    "    return train_set, (query_set, gallery_set, pool_set)\n"
   ]
  },
  {
   "cell_type": "code",
   "execution_count": 66,
   "id": "4d32f038",
   "metadata": {
    "code_folding": []
   },
   "outputs": [],
   "source": [
    "def get_loaders(batch_size, test_batch_size, num_workers, pin_memory, sampler, recalls,\n",
    "                num_iterations=None, num_identities=None):\n",
    "    \n",
    "    train_set, (query_set, gallery_set, pool_set) = get_sets(name, data_path, \n",
    "                                                             train_file, test_file, pool_file,\n",
    "                                                             preload, num_workers)\n",
    "\n",
    "    if sampler == 'random':\n",
    "        train_sampler = BatchSampler(RandomSampler(train_set), batch_size=batch_size, drop_last=True)\n",
    "    elif sampler == 'random_id':\n",
    "        train_sampler = RandomReplacedIdentitySampler(train_set.targets, batch_size, num_identities, num_iterations)\n",
    "    else:\n",
    "        raise ValueError('Invalid choice of sampler ({}).'.format(sampler))\n",
    "    train_loader = DataLoader(train_set, batch_sampler=train_sampler, num_workers=num_workers, pin_memory=pin_memory)\n",
    "    train_noshuffle = DataLoader(train_set, batch_size=test_batch_size,num_workers=num_workers, pin_memory=pin_memory)\n",
    "    query_loader = DataLoader(query_set, batch_size=test_batch_size, num_workers=num_workers, pin_memory=pin_memory)\n",
    "    gallery_loader = None\n",
    "    if gallery_set is not None:\n",
    "        gallery_loader = DataLoader(gallery_set, batch_size=test_batch_size, num_workers=num_workers,\n",
    "                                    pin_memory=pin_memory)\n",
    "\n",
    "    pool_loader = DataLoader(pool_set, batch_size=test_batch_size, num_workers=num_workers, pin_memory=pin_memory)\n",
    "    \n",
    "    return MetricLoaders(train=train_loader, query=query_loader, pool=pool_loader, gallery=gallery_loader, \n",
    "                         train_noshuffle = train_noshuffle,\n",
    "                         num_classes=len(set(train_set.targets))), recalls"
   ]
  },
  {
   "cell_type": "code",
   "execution_count": 67,
   "id": "583a08b6",
   "metadata": {
    "scrolled": false
   },
   "outputs": [],
   "source": [
    "loaders, recall_ks = get_loaders(batch_size, test_batch_size, num_workers, pin_memory, sampler, recalls)"
   ]
  },
  {
   "cell_type": "code",
   "execution_count": 7,
   "id": "5e3951a1",
   "metadata": {},
   "outputs": [
    {
     "data": {
      "text/plain": [
       "39899"
      ]
     },
     "execution_count": 7,
     "metadata": {},
     "output_type": "execute_result"
    }
   ],
   "source": [
    "len(loaders.train.dataset)"
   ]
  },
  {
   "cell_type": "code",
   "execution_count": 8,
   "id": "603f1fe6",
   "metadata": {},
   "outputs": [
    {
     "data": {
      "text/plain": [
       "53703"
      ]
     },
     "execution_count": 8,
     "metadata": {},
     "output_type": "execute_result"
    }
   ],
   "source": [
    "len(loaders.pool.dataset)"
   ]
  },
  {
   "cell_type": "code",
   "execution_count": 9,
   "id": "0c4db367",
   "metadata": {},
   "outputs": [
    {
     "data": {
      "text/plain": [
       "26451"
      ]
     },
     "execution_count": 9,
     "metadata": {},
     "output_type": "execute_result"
    }
   ],
   "source": [
    "len(loaders.query.dataset)"
   ]
  },
  {
   "cell_type": "code",
   "execution_count": 10,
   "id": "7cff552c",
   "metadata": {},
   "outputs": [
    {
     "data": {
      "text/plain": [
       "11318"
      ]
     },
     "execution_count": 10,
     "metadata": {},
     "output_type": "execute_result"
    }
   ],
   "source": [
    "loaders.num_classes"
   ]
  },
  {
   "cell_type": "code",
   "execution_count": 10,
   "id": "df35e75d",
   "metadata": {
    "scrolled": true
   },
   "outputs": [
    {
     "data": {
      "text/plain": [
       "[1, 2, 4, 8, 16, 32]"
      ]
     },
     "execution_count": 10,
     "metadata": {},
     "output_type": "execute_result"
    }
   ],
   "source": [
    "recall_ks"
   ]
  },
  {
   "cell_type": "code",
   "execution_count": 11,
   "id": "b320b86f",
   "metadata": {},
   "outputs": [],
   "source": [
    "arch = 'resnet50'\n",
    "pretrained = True  # use a pretrained model from torchvision\n",
    "num_features = 2048 # dimensionality of the features produced by the feature extractor\n",
    "dropout = 0.5\n",
    "# norm_layer = None  # use a normalization layer (batchnorm or layernorm) for the features\n",
    "norm_layer = 'batch'\n",
    "remap = False  # remap features through a linear layer\n",
    "detach = False  # detach features before feeding to the classification layer. Prevents training of the feature extractor with cross-entropy.\n",
    "normalize = False  # normalize the features\n",
    "set_bn_eval = True  # set bn in eval mode even in training\n",
    "normalize_weight = False  # normalize the weights of the classification layer\n",
    "\n",
    "model = get_model(loaders.num_classes, arch, pretrained, num_features, \n",
    "                  norm_layer, detach, remap, normalize, normalize_weight,\n",
    "                  set_bn_eval, dropout)"
   ]
  },
  {
   "cell_type": "code",
   "execution_count": 12,
   "id": "493988a5",
   "metadata": {},
   "outputs": [
    {
     "data": {
      "text/plain": [
       "<All keys matched successfully>"
      ]
     },
     "execution_count": 12,
     "metadata": {},
     "output_type": "execute_result"
    }
   ],
   "source": [
    "model.load_state_dict(torch.load('checkpoints/resnet50_cars.pt'))"
   ]
  },
  {
   "cell_type": "code",
   "execution_count": 33,
   "id": "cedbc78e",
   "metadata": {},
   "outputs": [
    {
     "name": "stderr",
     "output_type": "stream",
     "text": [
      "                                                                                \r"
     ]
    },
    {
     "data": {
      "text/plain": [
       "_Metrics(loss=None, accuracy=0.9988971948623657, recall={'l2': {1: 76.19, 10: 87.74, 100: 92.15, 1000: 93.75}, 'cosine': {1: 77.14, 10: 89.13, 100: 93.4, 1000: 94.54}})"
      ]
     },
     "execution_count": 33,
     "metadata": {},
     "output_type": "execute_result"
    }
   ],
   "source": [
    "evaluate(model, loaders.train_noshuffle, recall=recall_ks)"
   ]
  },
  {
   "cell_type": "markdown",
   "id": "e75f64f8",
   "metadata": {},
   "source": [
    "## Threshold selection using training data (query within training)"
   ]
  },
  {
   "cell_type": "code",
   "execution_count": 107,
   "id": "0f2acb59",
   "metadata": {
    "code_folding": [
     0
    ]
   },
   "outputs": [],
   "source": [
    "def evaluate_full(model: nn.Module,\n",
    "             query_loader: DataLoader,\n",
    "             gallery_loader: Optional[DataLoader] = None,\n",
    "             xent: bool = False,\n",
    "             recall: Optional[List[int]] = None,\n",
    "             threshold_ls: Optional[List[float]] = None) -> _Metrics:\n",
    "    \n",
    "    model.eval()\n",
    "    device = next(model.parameters()).device\n",
    "    to_device = lambda x: x.to(device, non_blocking=True)\n",
    "    all_query_labels = []\n",
    "    all_query_features = []\n",
    "    all_gallery_features = None\n",
    "    all_gallery_labels = None\n",
    "    xent_losses = []\n",
    "    all_predictions = []\n",
    "\n",
    "    with torch.no_grad():\n",
    "        for batch, labels, _ in tqdm(query_loader, desc='Extracting query features', leave=False, ncols=80):\n",
    "            batch, labels = map(to_device, (batch, labels))\n",
    "            logits, features = model(batch)\n",
    "\n",
    "            all_query_labels.append(labels)\n",
    "            if recall is not None:\n",
    "                all_query_features.append(features)\n",
    "            if xent:\n",
    "                xent_losses.append(F.cross_entropy(logits, labels, reduction='none'))\n",
    "            all_predictions.append(logits.argmax(1))\n",
    "\n",
    "        torch.cuda.empty_cache()\n",
    "\n",
    "        all_query_labels = torch.cat(all_query_labels, 0)\n",
    "        if recall is not None:\n",
    "            all_query_features = torch.cat(all_query_features, 0)\n",
    "            recall_function = partial(\n",
    "                recall_at_ks_full, query_features=all_query_features, query_labels=all_query_labels, ks=recall,\n",
    "                gallery_features=all_gallery_features, gallery_labels=all_gallery_labels\n",
    "            )\n",
    "            recalls = {}\n",
    "            precisions = {}\n",
    "            for ts in threshold_ls:\n",
    "                recalls['cosine_'+str(ts)], precisions['cosine_'+str(ts)] = recall_function(cosine=True, threshold=ts)\n",
    "\n",
    "    return recalls, precisions"
   ]
  },
  {
   "cell_type": "code",
   "execution_count": 108,
   "id": "a5193738",
   "metadata": {
    "scrolled": true
   },
   "outputs": [
    {
     "name": "stderr",
     "output_type": "stream",
     "text": [
      "                                                                                \r"
     ]
    }
   ],
   "source": [
    "recall_func, precision_func = evaluate_full(model, loaders.train, recall=recall_ks, \n",
    "                                            threshold_ls=np.arange(0.0, 0.9, 0.02))"
   ]
  },
  {
   "cell_type": "code",
   "execution_count": 111,
   "id": "a22aa882",
   "metadata": {
    "scrolled": true
   },
   "outputs": [
    {
     "name": "stdout",
     "output_type": "stream",
     "text": [
      "0.275225845008431\n",
      "0.275225845008431\n",
      "0.275225845008431\n",
      "0.275225845008431\n",
      "0.275225845008431\n",
      "0.275225845008431\n",
      "0.275225845008431\n",
      "0.275225845008431\n",
      "0.275225845008431\n",
      "0.275225845008431\n",
      "0.275225845008431\n",
      "0.275225845008431\n",
      "0.275225845008431\n",
      "0.275237178922047\n",
      "0.27550678787919336\n",
      "0.27817234633715265\n",
      "0.28990459150400666\n",
      "0.3184294016471815\n",
      "0.36513691261394476\n",
      "0.4224821911013204\n",
      "0.4815011534301786\n",
      "0.5355556771892516\n",
      "0.5787148054813348\n",
      "0.6066891348003917\n",
      "0.6238842217600497\n",
      "0.6283994599277607\n",
      "0.6210772681625655\n",
      "0.6051117881825298\n",
      "0.5797368338257173\n",
      "0.552688632791134\n",
      "0.5203477840878773\n",
      "0.484626331064712\n",
      "0.4463800083514241\n",
      "0.4068136834661401\n",
      "0.3661982177328267\n",
      "0.3256886297679522\n",
      "0.2861639590040538\n",
      "0.25127005238561845\n",
      "0.21379284605095694\n",
      "0.17835034690168725\n",
      "0.14652423779615775\n",
      "0.11510309742750488\n",
      "0.08796223578814849\n",
      "0.0663876602360792\n",
      "0.0457822310151673\n"
     ]
    }
   ],
   "source": [
    "for ts in np.arange(0.0, 0.9, 0.02):\n",
    "    recall =  np.mean(recall_func['cosine_{}'.format(ts)][10])\n",
    "    precision = np.mean(precision_func['cosine_{}'.format(ts)][10])\n",
    "#     print('Threshold {:.2f}'.format(ts), 'Recall: {} Precision {}'.format(recall, precision))\n",
    "    print(precision)"
   ]
  },
  {
   "cell_type": "markdown",
   "id": "eff69f95",
   "metadata": {},
   "source": [
    "## Get FP, FN"
   ]
  },
  {
   "cell_type": "markdown",
   "id": "b37540fd",
   "metadata": {},
   "source": [
    "- What are the FPs, FNs from pooled set?"
   ]
  },
  {
   "cell_type": "code",
   "execution_count": 68,
   "id": "6a99c07c",
   "metadata": {},
   "outputs": [],
   "source": [
    "query_loader = loaders.pool # unlabelled pool\n",
    "gallery_loader = loaders.train_noshuffle # train loader with no shuffling\n",
    "recall = recall_ks # TOchange\n",
    "ts = {'cub':0.58, 'cars':0.4, 'sop':0.5, 'inshop':0.52}['inshop'] # TOchange\n",
    "device = 'cuda'\n",
    "to_device = lambda x: x.to(device, non_blocking=True)"
   ]
  },
  {
   "cell_type": "code",
   "execution_count": 10,
   "id": "00aa4068",
   "metadata": {},
   "outputs": [],
   "source": [
    "# model.eval()\n",
    "\n",
    "# all_query_labels = []\n",
    "# all_query_features = []\n",
    "# all_predictions = []\n",
    "\n",
    "# with torch.no_grad():\n",
    "#     for batch, labels, _ in tqdm(query_loader, desc='Extracting query features', leave=False, ncols=80):\n",
    "#         batch, labels = map(to_device, (batch, labels))\n",
    "#         logits, features = model(batch)\n",
    "\n",
    "#         all_query_labels.append(labels)\n",
    "#         all_query_features.append(features)\n",
    "#         all_predictions.append(logits.argmax(1))\n",
    "\n",
    "# torch.cuda.empty_cache()\n",
    "# all_query_labels = torch.cat(all_query_labels, 0)\n",
    "# all_query_features = torch.cat(all_query_features, 0)"
   ]
  },
  {
   "cell_type": "code",
   "execution_count": 11,
   "id": "5d2fe24b",
   "metadata": {},
   "outputs": [],
   "source": [
    "# all_gallery_features = []\n",
    "# all_gallery_labels = []\n",
    "\n",
    "# with torch.no_grad():\n",
    "#     for batch, labels, _ in tqdm(gallery_loader, desc='Extracting gallery features', leave=False, ncols=80):\n",
    "#         batch, labels = map(to_device, (batch, labels))\n",
    "#         features = model(batch)[1]\n",
    "\n",
    "#         all_gallery_labels.append(labels)\n",
    "#         all_gallery_features.append(features)\n",
    "\n",
    "# all_gallery_labels = torch.cat(all_gallery_labels, 0)\n",
    "# all_gallery_features = torch.cat(all_gallery_features, 0)"
   ]
  },
  {
   "cell_type": "code",
   "execution_count": 12,
   "id": "e4926cef",
   "metadata": {},
   "outputs": [],
   "source": [
    "# set([x.item() for x in all_query_labels]) - set([x.item() for x in all_gallery_labels])"
   ]
  },
  {
   "cell_type": "code",
   "execution_count": 13,
   "id": "6814f485",
   "metadata": {},
   "outputs": [],
   "source": [
    "# torch.save(all_query_features, 'checkpoints/cars_query_feat.pt')\n",
    "# torch.save(all_query_labels, 'checkpoints/cars_query_label.pt')\n",
    "# torch.save(all_gallery_features, 'checkpoints/cars_gallery_feat.pt') # or train feat\n",
    "# torch.save(all_gallery_labels, 'checkpoints/cars_gallery_label.pt') # or train label"
   ]
  },
  {
   "cell_type": "code",
   "execution_count": 69,
   "id": "701c47db",
   "metadata": {},
   "outputs": [],
   "source": [
    "all_gallery_features = torch.load('checkpoints/inshop_gallery_feat.pt')\n",
    "all_gallery_labels = torch.load('checkpoints/inshop_gallery_label.pt') # or train label\n",
    "all_query_labels = torch.load('checkpoints/inshop_query_label.pt')\n",
    "all_query_features = torch.load('checkpoints/inshop_query_feat.pt')"
   ]
  },
  {
   "cell_type": "code",
   "execution_count": 70,
   "id": "4490a562",
   "metadata": {
    "code_folding": []
   },
   "outputs": [],
   "source": [
    "recall_function = partial(\n",
    "    fp_fn_eval, query_features=all_query_features, query_labels=all_query_labels, ks=recall,\n",
    "    gallery_features=all_gallery_features, gallery_labels=all_gallery_labels\n",
    ")\n",
    "fns, fps = recall_function(cosine=True, threshold=ts)"
   ]
  },
  {
   "cell_type": "code",
   "execution_count": 71,
   "id": "969c319e",
   "metadata": {},
   "outputs": [],
   "source": [
    "fn_samples = np.asarray(query_loader.dataset.samples)[np.where(fns == True)[0]]\n",
    "fp_samples = np.asarray(query_loader.dataset.samples)[np.where(fps == True)[0]]"
   ]
  },
  {
   "cell_type": "code",
   "execution_count": 72,
   "id": "365c6d7a",
   "metadata": {},
   "outputs": [],
   "source": [
    "fn_query_features = np.asarray(all_query_features)[np.where(fns == True)[0]]\n",
    "fp_query_features = np.asarray(all_query_features)[np.where(fps == True)[0]]\n",
    "fn_query_labels = np.asarray(all_query_labels)[np.where(fns == True)[0]]\n",
    "fp_query_labels = np.asarray(all_query_labels)[np.where(fps == True)[0]]\n",
    "\n",
    "normal_query_features = np.asarray(all_query_features)[np.where((fps == False) & (fns == False))[0]]"
   ]
  },
  {
   "cell_type": "code",
   "execution_count": 73,
   "id": "e35eeefc",
   "metadata": {},
   "outputs": [],
   "source": [
    "assert len(fn_query_features) + len(fp_query_features) + len(normal_query_features) == len(query_loader.dataset.samples)"
   ]
  },
  {
   "cell_type": "markdown",
   "id": "2ed7503c",
   "metadata": {},
   "source": [
    "- Can we detect them by looking at distance to training classes' centroid ?"
   ]
  },
  {
   "cell_type": "code",
   "execution_count": 74,
   "id": "65852f49",
   "metadata": {},
   "outputs": [],
   "source": [
    "# M = torch.zeros(max(all_gallery_labels.numpy())+1, len(all_gallery_features))\n",
    "# M[all_gallery_labels, torch.arange(all_gallery_features.shape[0])] = 1 # one-hot map\n",
    "# M = torch.nn.functional.normalize(M, p=1, dim=1) # normalize to have each label of sum 1\n",
    "# centroids = torch.mm(M, all_gallery_features) # mean for each label\n",
    "# centroids = F.normalize(centroids, p=2, dim=1).numpy()"
   ]
  },
  {
   "cell_type": "code",
   "execution_count": 20,
   "id": "1fa0f50a",
   "metadata": {},
   "outputs": [],
   "source": [
    "# full_M = torch.zeros(max(all_gallery_labels.numpy())+1, len(all_gallery_features))\n",
    "# full_M[all_gallery_labels, torch.arange(all_gallery_features.shape[0])] = 1 # one-hot map\n",
    "# each_centroids = torch.mm(full_M.T, torch.from_numpy(centroids)) # centroids for each obs"
   ]
  },
  {
   "cell_type": "code",
   "execution_count": null,
   "id": "283b35fd",
   "metadata": {
    "scrolled": true
   },
   "outputs": [
    {
     "name": "stderr",
     "output_type": "stream",
     "text": [
      " 99%|█████████▉| 3931/3951 [04:43<00:02,  9.30it/s]"
     ]
    }
   ],
   "source": [
    "# covs = []\n",
    "# mus = []\n",
    "\n",
    "# for label in tqdm(set(all_gallery_labels.numpy())):\n",
    "    \n",
    "#     select_gallery_features = all_gallery_features[torch.where(all_gallery_labels == label)[0]]\n",
    "#     select_centroids = each_centroids[torch.where(all_gallery_labels == label)[0]]\n",
    "    \n",
    "#     cov = np.cov(select_gallery_features.numpy(), rowvar=False)\n",
    "#     covs.append(cov)\n",
    "#     mus.append(select_centroids[0].numpy())"
   ]
  },
  {
   "cell_type": "code",
   "execution_count": null,
   "id": "c49177fb",
   "metadata": {},
   "outputs": [],
   "source": [
    "# mus = np.asarray(mus)\n",
    "# covs = np.asarray(covs)"
   ]
  },
  {
   "cell_type": "markdown",
   "id": "bd1690d0",
   "metadata": {},
   "source": [
    "- Normal query to centroids"
   ]
  },
  {
   "cell_type": "code",
   "execution_count": 16,
   "id": "90aa411f",
   "metadata": {},
   "outputs": [],
   "source": [
    "# Mahan distance\n",
    "# query2gallery = []\n",
    "# for i in tqdm(range(len(mus))):\n",
    "#     dist = np.dot(np.dot((normal_query_features-mus[i][None, ...]), np.linalg.pinv(covs[i])), \n",
    "#                          (normal_query_features-mus[i][None, ...]).T)\n",
    "#     dist = dist.diagonal()\n",
    "#     query2gallery.append(dist)\n",
    "\n",
    "# query2gallery = np.asarray(query2gallery)\n",
    "# query2gallery = query2gallery.min(0) # distance to nearest centroid"
   ]
  },
  {
   "cell_type": "code",
   "execution_count": 30,
   "id": "4a88ddcf",
   "metadata": {},
   "outputs": [],
   "source": [
    "# Max, Margin to centroids\n",
    "# normal_query_features = F.normalize(torch.from_numpy(normal_query_features), p=2, dim=1).numpy()\n",
    "# dist = np.dot(normal_query_features, centroids.T)\n",
    "# query2gallery = dist.max(0)\n",
    "# ind = np.argsort(dist, axis=1)\n",
    "# sorted_dist = np.take_along_axis(dist, ind, axis=1)\n",
    "# margin_query2gallery = sorted_dist[:, -1] - sorted_dist[:, -2]"
   ]
  },
  {
   "cell_type": "markdown",
   "id": "e9cb2d38",
   "metadata": {},
   "source": [
    "$\n",
    "\\begin{equation} \\label{eq1}\n",
    "\\begin{split}\n",
    "& I(Y_{train} \\cup Y_{selected} ; \\hat{Z}_{train} \\cup \\hat{Z}_{selected})  \\\\\n",
    "& \\approx I(Y_{train} \\cup \\hat{Y}_{selected} ; \\hat{Z}_{train} \\cup \\hat{Z}_{selected}) \\\\\n",
    "& = H(\\hat{Z}_{train} \\cup \\hat{Z}_{selected}) - H(\\hat{Z}_{train} \\cup \\hat{Z}_{selected} | Y_{train} \\cup \\hat{Y}_{selected}) \\\\\n",
    "& = H(\\hat{Z}_{train} \\cup \\hat{Z}_{selected}) - \\sum_{\\hat{y}}{\\sum_{y}{H(\\hat{Z}_{train} \\cup \\hat{Z}_{selected} | Y = y, \\hat{Y} = \\hat{y}) p(y) p(\\hat{y})}} \\\\\n",
    "& \\approx \\frac{d}{(N'-1)N'} \\sum_{i=1}^{N+1}{\\sum_{j=1}^{N+1}{logD_{ij}^2}} - \\sum_{\\hat{y}}{\\sum_{y}[{ \\frac{d}{(S'_{y}-1)S'_{y}}\\sum_{i=1}^{y_i=y}{\\sum_{j=1}^{y_j=y}{logD_{ij}^2}}] p(y) p(\\hat{y})}} \\\\ \\\\\n",
    "& \\text{where } \\quad N' = N + 1 \\text{ (assume one sample is selected}) \\\\\n",
    "& \\text{where } \\quad S_k = \\sum_i{\\mathbb{1}(y_i = k)} \\\\\n",
    "& \\text{where } \\quad S'_k = \\sum_i{\\mathbb{1}(y_i = k)} + 1 \\text{ (assume one sample is selected}) \\\\\n",
    "& \\text{where } \\quad p_{\\hat{y}}(k) = \\frac{exp(z_i^Tc_k)}{\\sum_{j}{exp(z_i^Tc_j)}} \\\\\n",
    "& \\text{where } \\quad p_y(k) = \\frac{S_k}{N}\n",
    "\\end{split}\n",
    "\\end{equation}\n",
    "$"
   ]
  },
  {
   "cell_type": "code",
   "execution_count": 75,
   "id": "d4cc777e",
   "metadata": {},
   "outputs": [],
   "source": [
    "# compute similarity matrix\n",
    "z_train = F.normalize(all_gallery_features, p=2, dim=1).numpy()\n",
    "z_pool = F.normalize(all_query_features, p=2, dim=1).numpy()\n",
    "Sij = 2 - 2 * np.dot(z_train, z_pool.T) # "
   ]
  },
  {
   "cell_type": "code",
   "execution_count": 85,
   "id": "6ee625c9",
   "metadata": {},
   "outputs": [],
   "source": [
    "# empirical estimate of p(y) estimated from training set\n",
    "(unique, counts) = np.unique(all_gallery_labels, return_counts=True)\n",
    "py = counts / np.sum(counts)"
   ]
  },
  {
   "cell_type": "code",
   "execution_count": 110,
   "id": "42ca6040",
   "metadata": {},
   "outputs": [],
   "source": [
    "# predicted distribution of p(yhat) for each unlabelled data\n",
    "# M = torch.zeros(max(all_gallery_labels.numpy())+1, len(z_train))\n",
    "M = torch.zeros(len(unique), len(z_train))\n",
    "M[np.asarray([np.where(unique==x.item())[0].item() for x in all_gallery_labels]), torch.arange(z_train.shape[0])] = 1 # one-hot map\n",
    "M = torch.nn.functional.normalize(M, p=1, dim=1) # normalize to have each label of sum 1\n",
    "centroids = torch.mm(M, torch.from_numpy(z_train)) # mean for each label\n",
    "centroids = F.normalize(centroids, p=2, dim=1).numpy() # should normalize otherwise experience overflow problem\n",
    "\n",
    "zc = np.dot(z_pool, centroids.T)\n",
    "temperature = 1\n",
    "pyhat = np.exp(zc / temperature) / np.sum(np.exp(zc / temperature), axis=1, keepdims=True)"
   ]
  },
  {
   "cell_type": "code",
   "execution_count": 78,
   "id": "328e5271",
   "metadata": {},
   "outputs": [],
   "source": [
    "# compute entropy of Z\n",
    "Dij = Sij # take distance between THIS example w.r.t gallery set\n",
    "d = z_train.shape[1]\n",
    "Hz_s = np.sum(np.log(Dij), axis=0) * d / (len(z_train)*(len(z_train)+1))"
   ]
  },
  {
   "cell_type": "code",
   "execution_count": null,
   "id": "e83428d4",
   "metadata": {},
   "outputs": [],
   "source": [
    "# compute conditional entropy of Z|Y\n",
    "# M = np.zeros((max(all_gallery_labels.numpy())+1, len(z_train)))\n",
    "M = np.zeros((len(unique), len(z_train)))\n",
    "M[np.asarray([np.where(unique==x.item())[0].item() for x in all_gallery_labels]), np.arange(z_train.shape[0])] = 1 # one-hot map\n",
    "category_sum = np.dot(M, np.log(Dij))\n",
    "category_Hz = category_sum * d * (1/((counts+1) * len(z_train))).reshape(-1, 1)"
   ]
  },
  {
   "cell_type": "code",
   "execution_count": null,
   "id": "c5d5c36e",
   "metadata": {
    "scrolled": true
   },
   "outputs": [],
   "source": [
    "cond_Hz = np.dot(category_Hz.T, pyhat.T) \n",
    "cond_Hz_s = cond_Hz.diagonal()"
   ]
  },
  {
   "cell_type": "code",
   "execution_count": 59,
   "id": "0f7f298c",
   "metadata": {},
   "outputs": [],
   "source": [
    "normal_Hz = np.asarray(Hz_s)[np.where((fps == False) & (fns == False))[0]]\n",
    "fp_Hz = np.asarray(Hz_s)[np.where((fps == True))[0]]\n",
    "fn_Hz = np.asarray(Hz_s)[np.where((fns == True))[0]]\n",
    "\n",
    "normal_Hz_cond = np.asarray(cond_Hz_s)[np.where((fps == False) & (fns == False))[0]]\n",
    "fp_Hz_cond = np.asarray(cond_Hz_s)[np.where((fps == True))[0]]\n",
    "fn_Hz_cond = np.asarray(cond_Hz_s)[np.where((fns == True))[0]]\n",
    "\n",
    "normal_info = normal_Hz - normal_Hz_cond\n",
    "fp_info = fp_Hz - fp_Hz_cond\n",
    "fn_info = fn_Hz - fn_Hz_cond"
   ]
  },
  {
   "cell_type": "code",
   "execution_count": 60,
   "id": "0a00ba6e",
   "metadata": {},
   "outputs": [
    {
     "data": {
      "image/png": "[encoded data removed]",
      "text/plain": [
       "<Figure size 432x288 with 1 Axes>"
      ]
     },
     "metadata": {
      "needs_background": "light"
     },
     "output_type": "display_data"
    }
   ],
   "source": [
    "plt.hist(fn_Hz, label='FN', bins=50, alpha=0.5)\n",
    "plt.hist(normal_Hz, label='Normal', bins=50, alpha=0.5)\n",
    "plt.hist(fp_Hz , label='FP', bins=50, alpha=0.5)\n",
    "plt.legend()\n",
    "plt.show()"
   ]
  },
  {
   "cell_type": "code",
   "execution_count": 62,
   "id": "768d5638",
   "metadata": {},
   "outputs": [
    {
     "data": {
      "image/png": "[encoded data removed]",
      "text/plain": [
       "<Figure size 432x288 with 1 Axes>"
      ]
     },
     "metadata": {
      "needs_background": "light"
     },
     "output_type": "display_data"
    }
   ],
   "source": [
    "plt.hist(fn_Hz_cond, label='FN', bins=50, alpha=0.5)\n",
    "plt.hist(normal_Hz_cond, label='Normal', bins=50, alpha=0.5)\n",
    "plt.hist(fp_Hz_cond , label='FP', bins=50, alpha=0.5)\n",
    "plt.legend()\n",
    "plt.show()"
   ]
  },
  {
   "cell_type": "code",
   "execution_count": 63,
   "id": "d1d5af58",
   "metadata": {},
   "outputs": [
    {
     "data": {
      "image/png": "[encoded data removed]",
      "text/plain": [
       "<Figure size 432x288 with 1 Axes>"
      ]
     },
     "metadata": {
      "needs_background": "light"
     },
     "output_type": "display_data"
    }
   ],
   "source": [
    "plt.hist(fn_info, label='FN', bins=50, alpha=0.5)\n",
    "plt.hist(normal_info, label='Normal', bins=50, alpha=0.5)\n",
    "plt.hist(fp_info , label='FP', bins=50, alpha=0.5)\n",
    "plt.legend()\n",
    "plt.show()"
   ]
  },
  {
   "cell_type": "markdown",
   "id": "c85c687a",
   "metadata": {},
   "source": [
    "- FN query to centroids"
   ]
  },
  {
   "cell_type": "code",
   "execution_count": 37,
   "id": "9d92e776",
   "metadata": {},
   "outputs": [
    {
     "name": "stderr",
     "output_type": "stream",
     "text": [
      "100%|██████████| 98/98 [02:41<00:00,  1.64s/it]\n"
     ]
    }
   ],
   "source": [
    "# Mahan distance\n",
    "# fn_query2gallery = []\n",
    "# for i in tqdm(range(len(mus))):\n",
    "#     dist = np.dot(np.dot((fn_query_features-mus[i][None, ...]), np.linalg.pinv(covs[i])), \n",
    "#                          (fn_query_features-mus[i][None, ...]).T)\n",
    "#     dist = dist.diagonal()\n",
    "#     fn_query2gallery.append(dist)\n",
    "# fn_query2gallery = np.asarray(fn_query2gallery)\n",
    "# fn_query2gallery = fn_query2gallery.min(0)"
   ]
  },
  {
   "cell_type": "code",
   "execution_count": 33,
   "id": "4f6dba50",
   "metadata": {},
   "outputs": [],
   "source": [
    "# Max, Margin to centroids\n",
    "# fn_query_features = F.normalize(torch.from_numpy(fn_query_features), p=2, dim=1).numpy()\n",
    "# dist = np.dot(fn_query_features, centroids.T)\n",
    "# fn_query2gallery = dist.max(0)\n",
    "# ind = np.argsort(dist, axis=1)\n",
    "# sorted_dist = np.take_along_axis(dist, ind, axis=1)\n",
    "# fn_margin_query2gallery = sorted_dist[:, -1] - sorted_dist[:, -2]"
   ]
  },
  {
   "cell_type": "markdown",
   "id": "76702e9e",
   "metadata": {},
   "source": [
    "- FP query to centroids"
   ]
  },
  {
   "cell_type": "code",
   "execution_count": 23,
   "id": "9d62386d",
   "metadata": {},
   "outputs": [],
   "source": [
    "# Mahan distance\n",
    "# fp_query2gallery = []\n",
    "# for i in tqdm(range(len(mus))):\n",
    "#     dist = np.dot(np.dot((fp_query_features-mus[i][None, ...]), np.linalg.pinv(covs[i])), \n",
    "#                          (fp_query_features-mus[i][None, ...]).T)\n",
    "#     dist = dist.diagonal()\n",
    "#     fp_query2gallery.append(dist)\n",
    "# fp_query2gallery = np.asarray(fp_query2gallery)\n",
    "# fp_query2gallery = fp_query2gallery.min(0)"
   ]
  },
  {
   "cell_type": "code",
   "execution_count": 36,
   "id": "7d98fb16",
   "metadata": {},
   "outputs": [],
   "source": [
    "# Max, Margin to centroids\n",
    "# fp_query_features = F.normalize(torch.from_numpy(fp_query_features), p=2, dim=1).numpy()\n",
    "# dist = np.dot(fp_query_features, centroids.T)\n",
    "# fp_query2gallery = dist.max(0)\n",
    "# ind = np.argsort(dist, axis=1)\n",
    "# sorted_dist = np.take_along_axis(dist, ind, axis=1)\n",
    "# fp_margin_query2gallery = sorted_dist[:, -1] - sorted_dist[:, -2]"
   ]
  },
  {
   "cell_type": "code",
   "execution_count": 43,
   "id": "b5793a6b",
   "metadata": {},
   "outputs": [
    {
     "data": {
      "image/png": "[encoded data removed]",
      "text/plain": [
       "<Figure size 432x288 with 1 Axes>"
      ]
     },
     "metadata": {
      "needs_background": "light"
     },
     "output_type": "display_data"
    }
   ],
   "source": [
    "plt.hist(fn_query2gallery, label='FN', bins=50, alpha=0.5)\n",
    "plt.hist(query2gallery, label='Normal', bins=50, alpha=0.5)\n",
    "plt.hist(fp_query2gallery, label='FP', bins=50, alpha=0.5)\n",
    "plt.legend()\n",
    "plt.show()"
   ]
  },
  {
   "cell_type": "code",
   "execution_count": 39,
   "id": "48058097",
   "metadata": {},
   "outputs": [
    {
     "data": {
      "image/png": "[encoded data removed]",
      "text/plain": [
       "<Figure size 432x288 with 1 Axes>"
      ]
     },
     "metadata": {
      "needs_background": "light"
     },
     "output_type": "display_data"
    }
   ],
   "source": [
    "plt.hist(fn_query2gallery, label='FN', bins=50, alpha=0.5)\n",
    "plt.hist(query2gallery, label='Normal', bins=50, alpha=0.5)\n",
    "plt.hist(fp_query2gallery, label='FP', bins=50, alpha=0.5)\n",
    "plt.legend()\n",
    "plt.show()"
   ]
  },
  {
   "cell_type": "code",
   "execution_count": 40,
   "id": "0f19192f",
   "metadata": {},
   "outputs": [
    {
     "data": {
      "image/png": "[encoded data removed]",
      "text/plain": [
       "<Figure size 432x288 with 1 Axes>"
      ]
     },
     "metadata": {
      "needs_background": "light"
     },
     "output_type": "display_data"
    }
   ],
   "source": [
    "plt.hist(fn_margin_query2gallery, label='FN', bins=50, alpha=0.5)\n",
    "plt.hist(margin_query2gallery, label='Normal', bins=50, alpha=0.5)\n",
    "plt.hist(fp_margin_query2gallery, label='FP', bins=50, alpha=0.5)\n",
    "plt.legend()\n",
    "plt.show()"
   ]
  },
  {
   "cell_type": "markdown",
   "id": "cc6ae313",
   "metadata": {},
   "source": [
    "- Can we detect through reconstruction error ?"
   ]
  },
  {
   "cell_type": "code",
   "execution_count": 41,
   "id": "798bc382",
   "metadata": {
    "scrolled": true
   },
   "outputs": [],
   "source": [
    "from models.vae_ingredient import model_ingredient, get_model\n",
    "in_channels = 3\n",
    "latent_dim = 512\n",
    "arch = 'AE'\n",
    "\n",
    "encoder_model = get_model(arch, in_channels, latent_dim)"
   ]
  },
  {
   "cell_type": "code",
   "execution_count": 44,
   "id": "0cd75765",
   "metadata": {
    "collapsed": true
   },
   "outputs": [
    {
     "data": {
      "text/plain": [
       "AE(\n",
       "  (encoder): Sequential(\n",
       "    (0): Sequential(\n",
       "      (0): Conv2d(3, 32, kernel_size=(3, 3), stride=(2, 2), padding=(1, 1))\n",
       "      (1): BatchNorm2d(32, eps=1e-05, momentum=0.1, affine=True, track_running_stats=True)\n",
       "      (2): LeakyReLU(negative_slope=0.01)\n",
       "    )\n",
       "    (1): Sequential(\n",
       "      (0): Conv2d(32, 64, kernel_size=(3, 3), stride=(2, 2), padding=(1, 1))\n",
       "      (1): BatchNorm2d(64, eps=1e-05, momentum=0.1, affine=True, track_running_stats=True)\n",
       "      (2): LeakyReLU(negative_slope=0.01)\n",
       "    )\n",
       "    (2): Sequential(\n",
       "      (0): Conv2d(64, 128, kernel_size=(3, 3), stride=(2, 2), padding=(1, 1))\n",
       "      (1): BatchNorm2d(128, eps=1e-05, momentum=0.1, affine=True, track_running_stats=True)\n",
       "      (2): LeakyReLU(negative_slope=0.01)\n",
       "    )\n",
       "    (3): Sequential(\n",
       "      (0): Conv2d(128, 256, kernel_size=(3, 3), stride=(2, 2), padding=(1, 1))\n",
       "      (1): BatchNorm2d(256, eps=1e-05, momentum=0.1, affine=True, track_running_stats=True)\n",
       "      (2): LeakyReLU(negative_slope=0.01)\n",
       "    )\n",
       "    (4): Sequential(\n",
       "      (0): Conv2d(256, 512, kernel_size=(3, 3), stride=(2, 2), padding=(1, 1))\n",
       "      (1): BatchNorm2d(512, eps=1e-05, momentum=0.1, affine=True, track_running_stats=True)\n",
       "      (2): LeakyReLU(negative_slope=0.01)\n",
       "    )\n",
       "  )\n",
       "  (latent_layer): Linear(in_features=2048, out_features=512, bias=True)\n",
       "  (decoder_input): Linear(in_features=512, out_features=2048, bias=True)\n",
       "  (decoder): Sequential(\n",
       "    (0): Sequential(\n",
       "      (0): ConvTranspose2d(512, 256, kernel_size=(3, 3), stride=(2, 2), padding=(1, 1), output_padding=(1, 1))\n",
       "      (1): BatchNorm2d(256, eps=1e-05, momentum=0.1, affine=True, track_running_stats=True)\n",
       "      (2): LeakyReLU(negative_slope=0.01)\n",
       "    )\n",
       "    (1): Sequential(\n",
       "      (0): ConvTranspose2d(256, 128, kernel_size=(3, 3), stride=(2, 2), padding=(1, 1), output_padding=(1, 1))\n",
       "      (1): BatchNorm2d(128, eps=1e-05, momentum=0.1, affine=True, track_running_stats=True)\n",
       "      (2): LeakyReLU(negative_slope=0.01)\n",
       "    )\n",
       "    (2): Sequential(\n",
       "      (0): ConvTranspose2d(128, 64, kernel_size=(3, 3), stride=(2, 2), padding=(1, 1), output_padding=(1, 1))\n",
       "      (1): BatchNorm2d(64, eps=1e-05, momentum=0.1, affine=True, track_running_stats=True)\n",
       "      (2): LeakyReLU(negative_slope=0.01)\n",
       "    )\n",
       "    (3): Sequential(\n",
       "      (0): ConvTranspose2d(64, 32, kernel_size=(3, 3), stride=(2, 2), padding=(1, 1), output_padding=(1, 1))\n",
       "      (1): BatchNorm2d(32, eps=1e-05, momentum=0.1, affine=True, track_running_stats=True)\n",
       "      (2): LeakyReLU(negative_slope=0.01)\n",
       "    )\n",
       "  )\n",
       "  (final_layer): Sequential(\n",
       "    (0): ConvTranspose2d(32, 32, kernel_size=(3, 3), stride=(2, 2), padding=(1, 1), output_padding=(1, 1))\n",
       "    (1): BatchNorm2d(32, eps=1e-05, momentum=0.1, affine=True, track_running_stats=True)\n",
       "    (2): LeakyReLU(negative_slope=0.01)\n",
       "    (3): Conv2d(32, 3, kernel_size=(3, 3), stride=(1, 1), padding=(1, 1))\n",
       "    (4): Sigmoid()\n",
       "  )\n",
       ")"
      ]
     },
     "execution_count": 44,
     "metadata": {},
     "output_type": "execute_result"
    }
   ],
   "source": [
    "encoder_model.load_state_dict(torch.load('checkpoints/AE_sop_vae.pt'))\n",
    "encoder_model.to(device)"
   ]
  },
  {
   "cell_type": "code",
   "execution_count": 47,
   "id": "74f40d6e",
   "metadata": {
    "code_folding": [],
    "scrolled": true
   },
   "outputs": [
    {
     "name": "stderr",
     "output_type": "stream",
     "text": [
      "Extracting query features:   3%|▌                | 3/93 [00:01<00:44,  2.03it/s]"
     ]
    },
    {
     "name": "stdout",
     "output_type": "stream",
     "text": [
      "torch.Size([256])\n",
      "torch.Size([256])\n",
      "torch.Size([256])\n"
     ]
    },
    {
     "name": "stderr",
     "output_type": "stream",
     "text": [
      "Extracting query features:   6%|█                | 6/93 [00:02<00:20,  4.27it/s]"
     ]
    },
    {
     "name": "stdout",
     "output_type": "stream",
     "text": [
      "torch.Size([256])\n",
      "torch.Size([256])\n",
      "torch.Size([256])\n"
     ]
    },
    {
     "name": "stderr",
     "output_type": "stream",
     "text": [
      "\r",
      "Extracting query features:   9%|█▍               | 8/93 [00:02<00:13,  6.12it/s]"
     ]
    },
    {
     "name": "stdout",
     "output_type": "stream",
     "text": [
      "torch.Size([256])\n",
      "torch.Size([256])\n"
     ]
    },
    {
     "name": "stderr",
     "output_type": "stream",
     "text": [
      "\r",
      "Extracting query features:  11%|█▋              | 10/93 [00:02<00:12,  6.53it/s]"
     ]
    },
    {
     "name": "stdout",
     "output_type": "stream",
     "text": [
      "torch.Size([256])\n",
      "torch.Size([256])\n",
      "torch.Size([256])\n"
     ]
    },
    {
     "name": "stderr",
     "output_type": "stream",
     "text": [
      "Extracting query features:  15%|██▍             | 14/93 [00:03<00:10,  7.48it/s]"
     ]
    },
    {
     "name": "stdout",
     "output_type": "stream",
     "text": [
      "torch.Size([256])\n",
      "torch.Size([256])\n",
      "torch.Size([256])\n"
     ]
    },
    {
     "name": "stderr",
     "output_type": "stream",
     "text": [
      "\r",
      "Extracting query features:  17%|██▊             | 16/93 [00:03<00:08,  8.72it/s]"
     ]
    },
    {
     "name": "stdout",
     "output_type": "stream",
     "text": [
      "torch.Size([256])\n",
      "torch.Size([256])\n",
      "torch.Size([256])\n"
     ]
    },
    {
     "name": "stderr",
     "output_type": "stream",
     "text": [
      "\r",
      "Extracting query features:  19%|███             | 18/93 [00:12<01:52,  1.50s/it]"
     ]
    },
    {
     "name": "stdout",
     "output_type": "stream",
     "text": [
      "torch.Size([256])\n"
     ]
    },
    {
     "name": "stderr",
     "output_type": "stream",
     "text": [
      "Extracting query features:  22%|███▍            | 20/93 [00:12<01:17,  1.06s/it]"
     ]
    },
    {
     "name": "stdout",
     "output_type": "stream",
     "text": [
      "torch.Size([256])\n",
      "torch.Size([256])\n"
     ]
    },
    {
     "name": "stderr",
     "output_type": "stream",
     "text": [
      "Extracting query features:  25%|███▉            | 23/93 [00:13<00:38,  1.84it/s]"
     ]
    },
    {
     "name": "stdout",
     "output_type": "stream",
     "text": [
      "torch.Size([256])\n",
      "torch.Size([256])\n",
      "torch.Size([256])\n"
     ]
    },
    {
     "name": "stderr",
     "output_type": "stream",
     "text": [
      "\r",
      "Extracting query features:  26%|████▏           | 24/93 [00:13<00:31,  2.21it/s]"
     ]
    },
    {
     "name": "stdout",
     "output_type": "stream",
     "text": [
      "torch.Size([256])\n"
     ]
    },
    {
     "name": "stderr",
     "output_type": "stream",
     "text": [
      "\r",
      "Extracting query features:  27%|████▎           | 25/93 [00:15<01:09,  1.03s/it]"
     ]
    },
    {
     "name": "stdout",
     "output_type": "stream",
     "text": [
      "torch.Size([256])\n"
     ]
    },
    {
     "name": "stderr",
     "output_type": "stream",
     "text": [
      "\r",
      "Extracting query features:  28%|████▍           | 26/93 [00:22<02:34,  2.31s/it]"
     ]
    },
    {
     "name": "stdout",
     "output_type": "stream",
     "text": [
      "torch.Size([256])\n"
     ]
    },
    {
     "name": "stderr",
     "output_type": "stream",
     "text": [
      "Extracting query features:  31%|████▉           | 29/93 [00:22<01:05,  1.03s/it]"
     ]
    },
    {
     "name": "stdout",
     "output_type": "stream",
     "text": [
      "torch.Size([256])\n",
      "torch.Size([256])\n",
      "torch.Size([256])\n"
     ]
    },
    {
     "name": "stderr",
     "output_type": "stream",
     "text": [
      "Extracting query features:  34%|█████▌          | 32/93 [00:22<00:31,  1.92it/s]"
     ]
    },
    {
     "name": "stdout",
     "output_type": "stream",
     "text": [
      "torch.Size([256])\n",
      "torch.Size([256])\n",
      "torch.Size([256])\n"
     ]
    },
    {
     "name": "stderr",
     "output_type": "stream",
     "text": [
      "\r",
      "Extracting query features:  35%|█████▋          | 33/93 [00:23<00:34,  1.73it/s]"
     ]
    },
    {
     "name": "stdout",
     "output_type": "stream",
     "text": [
      "torch.Size([256])\n"
     ]
    },
    {
     "name": "stderr",
     "output_type": "stream",
     "text": [
      "Extracting query features:  38%|██████          | 35/93 [00:27<00:58,  1.01s/it]"
     ]
    },
    {
     "name": "stdout",
     "output_type": "stream",
     "text": [
      "torch.Size([256])\n",
      "torch.Size([256])\n"
     ]
    },
    {
     "name": "stderr",
     "output_type": "stream",
     "text": [
      "\r",
      "Extracting query features:  40%|██████▎         | 37/93 [00:27<00:34,  1.63it/s]"
     ]
    },
    {
     "name": "stdout",
     "output_type": "stream",
     "text": [
      "torch.Size([256])\n",
      "torch.Size([256])\n",
      "torch.Size([256])\n"
     ]
    },
    {
     "name": "stderr",
     "output_type": "stream",
     "text": [
      "Extracting query features:  43%|██████▉         | 40/93 [00:27<00:18,  2.86it/s]"
     ]
    },
    {
     "name": "stdout",
     "output_type": "stream",
     "text": [
      "torch.Size([256])\n",
      "torch.Size([256])\n"
     ]
    },
    {
     "name": "stderr",
     "output_type": "stream",
     "text": [
      "\r",
      "Extracting query features:  44%|███████         | 41/93 [00:28<00:20,  2.52it/s]"
     ]
    },
    {
     "name": "stdout",
     "output_type": "stream",
     "text": [
      "torch.Size([256])\n"
     ]
    },
    {
     "name": "stderr",
     "output_type": "stream",
     "text": [
      "\r",
      "Extracting query features:  45%|███████▏        | 42/93 [00:31<01:01,  1.20s/it]"
     ]
    },
    {
     "name": "stdout",
     "output_type": "stream",
     "text": [
      "torch.Size([256])\n"
     ]
    },
    {
     "name": "stderr",
     "output_type": "stream",
     "text": [
      "Extracting query features:  47%|███████▌        | 44/93 [00:32<00:35,  1.39it/s]"
     ]
    },
    {
     "name": "stdout",
     "output_type": "stream",
     "text": [
      "torch.Size([256])\n",
      "torch.Size([256])\n"
     ]
    },
    {
     "name": "stderr",
     "output_type": "stream",
     "text": [
      "\r",
      "Extracting query features:  49%|███████▉        | 46/93 [00:32<00:20,  2.26it/s]"
     ]
    },
    {
     "name": "stdout",
     "output_type": "stream",
     "text": [
      "torch.Size([256])\n",
      "torch.Size([256])\n",
      "torch.Size([256])\n"
     ]
    },
    {
     "name": "stderr",
     "output_type": "stream",
     "text": [
      "\r",
      "Extracting query features:  52%|████████▎       | 48/93 [00:32<00:13,  3.38it/s]"
     ]
    },
    {
     "name": "stdout",
     "output_type": "stream",
     "text": [
      "torch.Size([256])\n",
      "torch.Size([256])\n"
     ]
    },
    {
     "name": "stderr",
     "output_type": "stream",
     "text": [
      "Extracting query features:  55%|████████▊       | 51/93 [00:38<00:44,  1.05s/it]"
     ]
    },
    {
     "name": "stdout",
     "output_type": "stream",
     "text": [
      "torch.Size([256])\n",
      "torch.Size([256])\n"
     ]
    },
    {
     "name": "stderr",
     "output_type": "stream",
     "text": [
      "Extracting query features:  57%|█████████       | 53/93 [00:39<00:26,  1.50it/s]"
     ]
    },
    {
     "name": "stdout",
     "output_type": "stream",
     "text": [
      "torch.Size([256])\n",
      "torch.Size([256])\n"
     ]
    },
    {
     "name": "stderr",
     "output_type": "stream",
     "text": [
      "\r",
      "Extracting query features:  59%|█████████▍      | 55/93 [00:39<00:16,  2.33it/s]"
     ]
    },
    {
     "name": "stdout",
     "output_type": "stream",
     "text": [
      "torch.Size([256])\n",
      "torch.Size([256])\n"
     ]
    },
    {
     "name": "stderr",
     "output_type": "stream",
     "text": [
      "\r",
      "Extracting query features:  60%|█████████▋      | 56/93 [00:39<00:16,  2.31it/s]"
     ]
    },
    {
     "name": "stdout",
     "output_type": "stream",
     "text": [
      "torch.Size([256])\n"
     ]
    },
    {
     "name": "stderr",
     "output_type": "stream",
     "text": [
      "\r",
      "Extracting query features:  61%|█████████▊      | 57/93 [00:40<00:22,  1.57it/s]"
     ]
    },
    {
     "name": "stdout",
     "output_type": "stream",
     "text": [
      "torch.Size([256])\n"
     ]
    },
    {
     "name": "stderr",
     "output_type": "stream",
     "text": [
      "\r",
      "Extracting query features:  62%|█████████▉      | 58/93 [00:43<00:37,  1.06s/it]"
     ]
    },
    {
     "name": "stdout",
     "output_type": "stream",
     "text": [
      "torch.Size([256])\n"
     ]
    },
    {
     "name": "stderr",
     "output_type": "stream",
     "text": [
      "Extracting query features:  66%|██████████▍     | 61/93 [00:43<00:16,  1.90it/s]"
     ]
    },
    {
     "name": "stdout",
     "output_type": "stream",
     "text": [
      "torch.Size([256])\n",
      "torch.Size([256])\n",
      "torch.Size([256])\n"
     ]
    },
    {
     "name": "stderr",
     "output_type": "stream",
     "text": [
      "\r",
      "Extracting query features:  68%|██████████▊     | 63/93 [00:43<00:10,  2.80it/s]"
     ]
    },
    {
     "name": "stdout",
     "output_type": "stream",
     "text": [
      "torch.Size([256])\n",
      "torch.Size([256])\n",
      "torch.Size([256])\n"
     ]
    },
    {
     "name": "stderr",
     "output_type": "stream",
     "text": [
      "\r",
      "Extracting query features:  70%|███████████▏    | 65/93 [00:44<00:10,  2.56it/s]"
     ]
    },
    {
     "name": "stdout",
     "output_type": "stream",
     "text": [
      "torch.Size([256])\n"
     ]
    },
    {
     "name": "stderr",
     "output_type": "stream",
     "text": [
      "Extracting query features:  73%|███████████▋    | 68/93 [00:47<00:14,  1.78it/s]"
     ]
    },
    {
     "name": "stdout",
     "output_type": "stream",
     "text": [
      "torch.Size([256])\n",
      "torch.Size([256])\n",
      "torch.Size([256])\n"
     ]
    },
    {
     "name": "stderr",
     "output_type": "stream",
     "text": [
      "\r",
      "Extracting query features:  75%|████████████    | 70/93 [00:47<00:09,  2.53it/s]"
     ]
    },
    {
     "name": "stdout",
     "output_type": "stream",
     "text": [
      "torch.Size([256])\n",
      "torch.Size([256])\n",
      "torch.Size([256])\n"
     ]
    },
    {
     "name": "stderr",
     "output_type": "stream",
     "text": [
      "\r",
      "Extracting query features:  77%|████████████▍   | 72/93 [00:47<00:06,  3.44it/s]"
     ]
    },
    {
     "name": "stdout",
     "output_type": "stream",
     "text": [
      "torch.Size([256])\n"
     ]
    },
    {
     "name": "stderr",
     "output_type": "stream",
     "text": [
      "\r",
      "Extracting query features:  78%|████████████▌   | 73/93 [00:48<00:07,  2.69it/s]"
     ]
    },
    {
     "name": "stdout",
     "output_type": "stream",
     "text": [
      "torch.Size([256])\n"
     ]
    },
    {
     "name": "stderr",
     "output_type": "stream",
     "text": [
      "Extracting query features:  81%|████████████▉   | 75/93 [00:53<00:19,  1.09s/it]"
     ]
    },
    {
     "name": "stdout",
     "output_type": "stream",
     "text": [
      "torch.Size([256])\n",
      "torch.Size([256])\n",
      "torch.Size([256])\n"
     ]
    },
    {
     "name": "stderr",
     "output_type": "stream",
     "text": [
      "Extracting query features:  85%|█████████████▌  | 79/93 [00:54<00:06,  2.16it/s]"
     ]
    },
    {
     "name": "stdout",
     "output_type": "stream",
     "text": [
      "torch.Size([256])\n",
      "torch.Size([256])\n",
      "torch.Size([256])\n",
      "torch.Size([256])\n"
     ]
    },
    {
     "name": "stderr",
     "output_type": "stream",
     "text": [
      "\r",
      "Extracting query features:  87%|█████████████▉  | 81/93 [00:54<00:05,  2.21it/s]"
     ]
    },
    {
     "name": "stdout",
     "output_type": "stream",
     "text": [
      "torch.Size([256])\n"
     ]
    },
    {
     "name": "stderr",
     "output_type": "stream",
     "text": [
      "Extracting query features:  90%|██████████████▍ | 84/93 [00:59<00:07,  1.21it/s]"
     ]
    },
    {
     "name": "stdout",
     "output_type": "stream",
     "text": [
      "torch.Size([256])\n",
      "torch.Size([256])\n",
      "torch.Size([256])\n"
     ]
    },
    {
     "name": "stderr",
     "output_type": "stream",
     "text": [
      "\r",
      "Extracting query features:  92%|██████████████▊ | 86/93 [00:59<00:04,  1.74it/s]"
     ]
    },
    {
     "name": "stdout",
     "output_type": "stream",
     "text": [
      "torch.Size([256])\n",
      "torch.Size([256])\n",
      "torch.Size([256])\n"
     ]
    },
    {
     "name": "stderr",
     "output_type": "stream",
     "text": [
      "\r",
      "Extracting query features:  95%|███████████████▏| 88/93 [00:59<00:02,  2.41it/s]"
     ]
    },
    {
     "name": "stdout",
     "output_type": "stream",
     "text": [
      "torch.Size([256])\n"
     ]
    },
    {
     "name": "stderr",
     "output_type": "stream",
     "text": [
      "\r",
      "Extracting query features:  96%|███████████████▎| 89/93 [01:00<00:01,  2.13it/s]"
     ]
    },
    {
     "name": "stdout",
     "output_type": "stream",
     "text": [
      "torch.Size([256])\n"
     ]
    },
    {
     "name": "stderr",
     "output_type": "stream",
     "text": [
      "Extracting query features:  99%|███████████████▊| 92/93 [01:03<00:00,  1.80it/s]"
     ]
    },
    {
     "name": "stdout",
     "output_type": "stream",
     "text": [
      "torch.Size([256])\n",
      "torch.Size([256])\n",
      "torch.Size([256])\n"
     ]
    },
    {
     "name": "stderr",
     "output_type": "stream",
     "text": [
      "\r",
      "                                                                                "
     ]
    },
    {
     "name": "stdout",
     "output_type": "stream",
     "text": [
      "torch.Size([147])\n"
     ]
    },
    {
     "name": "stderr",
     "output_type": "stream",
     "text": [
      "\r"
     ]
    }
   ],
   "source": [
    "all_reconstructed_error = torch.tensor([])\n",
    "with torch.no_grad():\n",
    "    for batch, labels, _ in tqdm(query_loader, desc='Extracting query features', leave=False, ncols=80):\n",
    "        batch, labels = map(to_device, (batch, labels))\n",
    "        z, _, reconstructed = encoder_model(batch)\n",
    "        reconstructed_error = F.binary_cross_entropy(reconstructed, batch, reduction='none').mean(1).mean(1).mean(1)\n",
    "        \n",
    "        print(reconstructed_error.shape)\n",
    "        all_reconstructed_error = torch.cat((all_reconstructed_error, reconstructed_error.detach().cpu()), dim=0)\n"
   ]
  },
  {
   "cell_type": "code",
   "execution_count": 48,
   "id": "c9fc475e",
   "metadata": {},
   "outputs": [],
   "source": [
    "fn_reconstructed_error = np.asarray(all_reconstructed_error)[np.where(fns == True)[0]]\n",
    "fp_reconstructed_error = np.asarray(all_reconstructed_error)[np.where(fps == True)[0]]\n",
    "normal_reconstructed_error = np.asarray(all_reconstructed_error)[np.where((fps == False) & (fns == False))[0]]"
   ]
  },
  {
   "cell_type": "code",
   "execution_count": 49,
   "id": "49d5bab4",
   "metadata": {
    "scrolled": true
   },
   "outputs": [
    {
     "name": "stderr",
     "output_type": "stream",
     "text": [
      "Extracting query features:   3%|▌                | 2/68 [00:09<04:08,  3.76s/it]"
     ]
    },
    {
     "name": "stdout",
     "output_type": "stream",
     "text": [
      "torch.Size([256])\n",
      "torch.Size([256])\n"
     ]
    },
    {
     "name": "stderr",
     "output_type": "stream",
     "text": [
      "\r",
      "Extracting query features:   6%|█                | 4/68 [00:09<01:33,  1.46s/it]"
     ]
    },
    {
     "name": "stdout",
     "output_type": "stream",
     "text": [
      "torch.Size([256])\n",
      "torch.Size([256])\n",
      "torch.Size([256])\n"
     ]
    },
    {
     "name": "stderr",
     "output_type": "stream",
     "text": [
      "\r",
      "Extracting query features:   9%|█▌               | 6/68 [00:09<00:49,  1.25it/s]"
     ]
    },
    {
     "name": "stdout",
     "output_type": "stream",
     "text": [
      "torch.Size([256])\n",
      "torch.Size([256])\n"
     ]
    },
    {
     "name": "stderr",
     "output_type": "stream",
     "text": [
      "\r",
      "Extracting query features:  12%|██               | 8/68 [00:09<00:31,  1.92it/s]"
     ]
    },
    {
     "name": "stdout",
     "output_type": "stream",
     "text": [
      "torch.Size([256])\n"
     ]
    },
    {
     "name": "stderr",
     "output_type": "stream",
     "text": [
      "Extracting query features:  16%|██▌             | 11/68 [00:14<00:56,  1.01it/s]"
     ]
    },
    {
     "name": "stdout",
     "output_type": "stream",
     "text": [
      "torch.Size([256])\n",
      "torch.Size([256])\n",
      "torch.Size([256])\n"
     ]
    },
    {
     "name": "stderr",
     "output_type": "stream",
     "text": [
      "Extracting query features:  19%|███             | 13/68 [00:15<00:34,  1.57it/s]"
     ]
    },
    {
     "name": "stdout",
     "output_type": "stream",
     "text": [
      "torch.Size([256])\n",
      "torch.Size([256])\n"
     ]
    },
    {
     "name": "stderr",
     "output_type": "stream",
     "text": [
      "\r",
      "Extracting query features:  21%|███▎            | 14/68 [00:15<00:27,  1.98it/s]"
     ]
    },
    {
     "name": "stdout",
     "output_type": "stream",
     "text": [
      "torch.Size([256])\n",
      "torch.Size([256])\n"
     ]
    },
    {
     "name": "stderr",
     "output_type": "stream",
     "text": [
      "\r",
      "Extracting query features:  24%|███▊            | 16/68 [00:15<00:17,  2.98it/s]"
     ]
    },
    {
     "name": "stdout",
     "output_type": "stream",
     "text": [
      "torch.Size([256])\n"
     ]
    },
    {
     "name": "stderr",
     "output_type": "stream",
     "text": [
      "Extracting query features:  26%|████▏           | 18/68 [00:18<00:40,  1.24it/s]"
     ]
    },
    {
     "name": "stdout",
     "output_type": "stream",
     "text": [
      "torch.Size([256])\n",
      "torch.Size([256])\n",
      "torch.Size([256])\n"
     ]
    },
    {
     "name": "stderr",
     "output_type": "stream",
     "text": [
      "Extracting query features:  31%|████▉           | 21/68 [00:19<00:19,  2.40it/s]"
     ]
    },
    {
     "name": "stdout",
     "output_type": "stream",
     "text": [
      "torch.Size([256])\n",
      "torch.Size([256])\n"
     ]
    },
    {
     "name": "stderr",
     "output_type": "stream",
     "text": [
      "Extracting query features:  34%|█████▍          | 23/68 [00:19<00:13,  3.37it/s]"
     ]
    },
    {
     "name": "stdout",
     "output_type": "stream",
     "text": [
      "torch.Size([256])\n",
      "torch.Size([256])\n",
      "torch.Size([256])\n"
     ]
    },
    {
     "name": "stderr",
     "output_type": "stream",
     "text": [
      "Extracting query features:  38%|██████          | 26/68 [00:25<00:47,  1.14s/it]"
     ]
    },
    {
     "name": "stdout",
     "output_type": "stream",
     "text": [
      "torch.Size([256])\n",
      "torch.Size([256])\n"
     ]
    },
    {
     "name": "stderr",
     "output_type": "stream",
     "text": [
      "Extracting query features:  43%|██████▊         | 29/68 [00:25<00:21,  1.81it/s]"
     ]
    },
    {
     "name": "stdout",
     "output_type": "stream",
     "text": [
      "torch.Size([256])\n",
      "torch.Size([256])\n",
      "torch.Size([256])\n"
     ]
    },
    {
     "name": "stderr",
     "output_type": "stream",
     "text": [
      "\r",
      "Extracting query features:  46%|███████▎        | 31/68 [00:26<00:13,  2.64it/s]"
     ]
    },
    {
     "name": "stdout",
     "output_type": "stream",
     "text": [
      "torch.Size([256])\n",
      "torch.Size([256])\n"
     ]
    },
    {
     "name": "stderr",
     "output_type": "stream",
     "text": [
      "\r",
      "Extracting query features:  47%|███████▌        | 32/68 [00:26<00:11,  3.04it/s]"
     ]
    },
    {
     "name": "stdout",
     "output_type": "stream",
     "text": [
      "torch.Size([256])\n"
     ]
    },
    {
     "name": "stderr",
     "output_type": "stream",
     "text": [
      "Extracting query features:  50%|████████        | 34/68 [00:31<00:39,  1.16s/it]"
     ]
    },
    {
     "name": "stdout",
     "output_type": "stream",
     "text": [
      "torch.Size([256])\n",
      "torch.Size([256])\n"
     ]
    },
    {
     "name": "stderr",
     "output_type": "stream",
     "text": [
      "Extracting query features:  54%|████████▋       | 37/68 [00:32<00:16,  1.83it/s]"
     ]
    },
    {
     "name": "stdout",
     "output_type": "stream",
     "text": [
      "torch.Size([256])\n",
      "torch.Size([256])\n",
      "torch.Size([256])\n"
     ]
    },
    {
     "name": "stderr",
     "output_type": "stream",
     "text": [
      "Extracting query features:  59%|█████████▍      | 40/68 [00:32<00:09,  3.07it/s]"
     ]
    },
    {
     "name": "stdout",
     "output_type": "stream",
     "text": [
      "torch.Size([256])\n",
      "torch.Size([256])\n",
      "torch.Size([256])\n"
     ]
    },
    {
     "name": "stderr",
     "output_type": "stream",
     "text": [
      "\r",
      "Extracting query features:  60%|█████████▋      | 41/68 [00:35<00:21,  1.24it/s]"
     ]
    },
    {
     "name": "stdout",
     "output_type": "stream",
     "text": [
      "torch.Size([256])\n"
     ]
    },
    {
     "name": "stderr",
     "output_type": "stream",
     "text": [
      "Extracting query features:  65%|██████████▎     | 44/68 [00:35<00:10,  2.27it/s]"
     ]
    },
    {
     "name": "stdout",
     "output_type": "stream",
     "text": [
      "torch.Size([256])\n",
      "torch.Size([256])\n",
      "torch.Size([256])\n"
     ]
    },
    {
     "name": "stderr",
     "output_type": "stream",
     "text": [
      "\r",
      "Extracting query features:  68%|██████████▊     | 46/68 [00:35<00:06,  3.16it/s]"
     ]
    },
    {
     "name": "stdout",
     "output_type": "stream",
     "text": [
      "torch.Size([256])\n",
      "torch.Size([256])\n"
     ]
    },
    {
     "name": "stderr",
     "output_type": "stream",
     "text": [
      "\r",
      "Extracting query features:  71%|███████████▎    | 48/68 [00:35<00:04,  4.20it/s]"
     ]
    },
    {
     "name": "stdout",
     "output_type": "stream",
     "text": [
      "torch.Size([256])\n",
      "torch.Size([256])\n"
     ]
    },
    {
     "name": "stderr",
     "output_type": "stream",
     "text": [
      "\r",
      "Extracting query features:  72%|███████████▌    | 49/68 [00:40<00:21,  1.16s/it]"
     ]
    },
    {
     "name": "stdout",
     "output_type": "stream",
     "text": [
      "torch.Size([256])\n"
     ]
    },
    {
     "name": "stderr",
     "output_type": "stream",
     "text": [
      "\r",
      "Extracting query features:  74%|███████████▊    | 50/68 [00:42<00:20,  1.16s/it]"
     ]
    },
    {
     "name": "stdout",
     "output_type": "stream",
     "text": [
      "torch.Size([256])\n",
      "torch.Size([256])\n",
      "torch.Size([256])\n"
     ]
    },
    {
     "name": "stderr",
     "output_type": "stream",
     "text": [
      "\r",
      "Extracting query features:  76%|████████████▏   | 52/68 [00:42<00:12,  1.33it/s]"
     ]
    },
    {
     "name": "stdout",
     "output_type": "stream",
     "text": [
      "torch.Size([256])\n"
     ]
    },
    {
     "name": "stderr",
     "output_type": "stream",
     "text": [
      "Extracting query features:  82%|█████████████▏  | 56/68 [00:42<00:04,  2.45it/s]"
     ]
    },
    {
     "name": "stdout",
     "output_type": "stream",
     "text": [
      "torch.Size([256])\n",
      "torch.Size([256])\n",
      "torch.Size([256])\n"
     ]
    },
    {
     "name": "stderr",
     "output_type": "stream",
     "text": [
      "\r",
      "Extracting query features:  84%|█████████████▍  | 57/68 [00:47<00:12,  1.17s/it]"
     ]
    },
    {
     "name": "stdout",
     "output_type": "stream",
     "text": [
      "torch.Size([256])\n"
     ]
    },
    {
     "name": "stderr",
     "output_type": "stream",
     "text": [
      "Extracting query features:  87%|█████████████▉  | 59/68 [00:55<00:18,  2.04s/it]"
     ]
    },
    {
     "name": "stdout",
     "output_type": "stream",
     "text": [
      "torch.Size([256])\n",
      "torch.Size([256])\n"
     ]
    },
    {
     "name": "stderr",
     "output_type": "stream",
     "text": [
      "Extracting query features:  91%|██████████████▌ | 62/68 [00:55<00:05,  1.07it/s]"
     ]
    },
    {
     "name": "stdout",
     "output_type": "stream",
     "text": [
      "torch.Size([256])\n",
      "torch.Size([256])\n",
      "torch.Size([256])\n"
     ]
    },
    {
     "name": "stderr",
     "output_type": "stream",
     "text": [
      "\r",
      "Extracting query features:  94%|███████████████ | 64/68 [00:55<00:02,  1.64it/s]"
     ]
    },
    {
     "name": "stdout",
     "output_type": "stream",
     "text": [
      "torch.Size([256])\n",
      "torch.Size([256])\n",
      "torch.Size([256])\n"
     ]
    },
    {
     "name": "stderr",
     "output_type": "stream",
     "text": [
      "Extracting query features: 100%|████████████████| 68/68 [01:03<00:00,  1.15s/it]"
     ]
    },
    {
     "name": "stdout",
     "output_type": "stream",
     "text": [
      "torch.Size([256])\n",
      "torch.Size([256])\n",
      "torch.Size([188])\n"
     ]
    },
    {
     "name": "stderr",
     "output_type": "stream",
     "text": [
      "                                                                                \r"
     ]
    }
   ],
   "source": [
    "train_reconstructed_error = torch.tensor([])\n",
    "with torch.no_grad():\n",
    "    for batch, labels, _ in tqdm(loaders.train_noshuffle, desc='Extracting query features', leave=False, ncols=80):\n",
    "        batch, labels = map(to_device, (batch, labels))\n",
    "        z, _, reconstructed = encoder_model(batch)\n",
    "        reconstructed_error = F.binary_cross_entropy(reconstructed, batch, reduction='none').mean(1).mean(1).mean(1)\n",
    "        print(reconstructed_error.shape)\n",
    "        train_reconstructed_error = torch.cat((all_reconstructed_error, reconstructed_error.detach().cpu()), dim=0)\n"
   ]
  },
  {
   "cell_type": "code",
   "execution_count": 50,
   "id": "3b5d806f",
   "metadata": {},
   "outputs": [
    {
     "data": {
      "image/png": "[encoded data removed]",
      "text/plain": [
       "<Figure size 432x288 with 1 Axes>"
      ]
     },
     "metadata": {
      "needs_background": "light"
     },
     "output_type": "display_data"
    }
   ],
   "source": [
    "plt.hist(train_reconstructed_error.numpy(), bins=50, label='Training', alpha=0.3)\n",
    "plt.hist(fn_reconstructed_error, bins=50, label='FN', alpha=0.7)\n",
    "plt.hist(fp_reconstructed_error, bins=50, label='FP', alpha=0.7)\n",
    "plt.hist(normal_reconstructed_error, bins=50, label='Normal', alpha=0.7)\n",
    "\n",
    "plt.legend()\n",
    "plt.show()"
   ]
  },
  {
   "cell_type": "code",
   "execution_count": null,
   "id": "7be340e6",
   "metadata": {},
   "outputs": [],
   "source": []
  }
 ],
 "metadata": {
  "kernelspec": {
   "display_name": "Python 3",
   "language": "python",
   "name": "python3"
  },
  "language_info": {
   "codemirror_mode": {
    "name": "ipython",
    "version": 3
   },
   "file_extension": ".py",
   "mimetype": "text/x-python",
   "name": "python",
   "nbconvert_exporter": "python",
   "pygments_lexer": "ipython3",
   "version": "3.7.10"
  },
  "latex_envs": {
   "LaTeX_envs_menu_present": true,
   "autoclose": false,
   "autocomplete": true,
   "bibliofile": "biblio.bib",
   "cite_by": "apalike",
   "current_citInitial": 1,
   "eqLabelWithNumbers": true,
   "eqNumInitial": 1,
   "hotkeys": {
    "equation": "Ctrl-E",
    "itemize": "Ctrl-I"
   },
   "labels_anchors": false,
   "latex_user_defs": false,
   "report_style_numbering": false,
   "user_envs_cfg": false
  },
  "toc": {
   "base_numbering": 1,
   "nav_menu": {},
   "number_sections": true,
   "sideBar": true,
   "skip_h1_title": false,
   "title_cell": "Table of Contents",
   "title_sidebar": "Contents",
   "toc_cell": false,
   "toc_position": {},
   "toc_section_display": true,
   "toc_window_display": false
  },
  "varInspector": {
   "cols": {
    "lenName": 16,
    "lenType": 16,
    "lenVar": 40
   },
   "kernels_config": {
    "python": {
     "delete_cmd_postfix": "",
     "delete_cmd_prefix": "del ",
     "library": "var_list.py",
     "varRefreshCmd": "print(var_dic_list())"
    },
    "r": {
     "delete_cmd_postfix": ") ",
     "delete_cmd_prefix": "rm(",
     "library": "var_list.r",
     "varRefreshCmd": "cat(var_dic_list()) "
    }
   },
   "position": {
    "height": "333.7364196777344px",
    "left": "877.9212036132812px",
    "right": "20px",
    "top": "120px",
    "width": "354.2527160644531px"
   },
   "types_to_exclude": [
    "module",
    "function",
    "builtin_function_or_method",
    "instance",
    "_Feature"
   ],
   "window_display": false
  }
 },
 "nbformat": 4,
 "nbformat_minor": 5
}
